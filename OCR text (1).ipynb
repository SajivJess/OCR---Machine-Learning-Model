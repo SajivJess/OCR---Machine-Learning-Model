{
 "cells": [
  {
   "cell_type": "code",
   "execution_count": 7,
   "id": "4c7fa7f6-2654-48c7-9e23-fda9e0fc36ab",
   "metadata": {},
   "outputs": [
    {
     "name": "stdout",
     "output_type": "stream",
     "text": [
      "Requirement already satisfied: opencv-python-headless in d:\\anaconda\\lib\\site-packages (4.10.0.84)\n",
      "Requirement already satisfied: pytesseract in d:\\anaconda\\lib\\site-packages (0.3.13)\n",
      "Requirement already satisfied: pdf2image in d:\\anaconda\\lib\\site-packages (1.17.0)\n",
      "Requirement already satisfied: numpy>=1.21.2 in d:\\anaconda\\lib\\site-packages (from opencv-python-headless) (1.26.4)\n",
      "Requirement already satisfied: packaging>=21.3 in d:\\anaconda\\lib\\site-packages (from pytesseract) (23.2)\n",
      "Requirement already satisfied: Pillow>=8.0.0 in d:\\anaconda\\lib\\site-packages (from pytesseract) (10.3.0)\n"
     ]
    }
   ],
   "source": [
    "!pip install opencv-python-headless pytesseract pdf2image\n"
   ]
  },
  {
   "cell_type": "code",
   "execution_count": 8,
   "id": "07bd7d26-b8fb-4321-9119-cdec672d7e17",
   "metadata": {},
   "outputs": [],
   "source": [
    "import cv2\n",
    "import pytesseract\n",
    "from pdf2image import convert_from_path\n",
    "from PIL import Image\n",
    "import numpy as np"
   ]
  },
  {
   "cell_type": "code",
   "execution_count": 9,
   "id": "ef53280c-b2fa-42de-bb9a-c2dee55899e2",
   "metadata": {},
   "outputs": [],
   "source": [
    "pytesseract.pytesseract.tesseract_cmd = r'D:\\Tesseract\\tesseract.exe'"
   ]
  },
  {
   "cell_type": "code",
   "execution_count": 10,
   "id": "8652ef50-2c4e-4c3c-a3b9-a15ac546081e",
   "metadata": {},
   "outputs": [],
   "source": [
    "def extract_text_from_image(image_path):\n",
    "    \"\"\"Extracts text from an image file using Tesseract OCR.\"\"\"\n",
    "    \n",
    "    img = cv2.imread(image_path)\n",
    "    \n",
    "    if img is None:\n",
    "        raise ValueError(f\"Image not found or unable to read: {image_path}\")\n",
    "    \n",
    "    gray = cv2.cvtColor(img, cv2.COLOR_BGR2GRAY)\n",
    "    \n",
    "    text = pytesseract.image_to_string(gray)\n",
    "    \n",
    "    return text"
   ]
  },
  {
   "cell_type": "code",
   "execution_count": 11,
   "id": "e74612d1-ca48-4815-bd50-ea85eec7b2ca",
   "metadata": {},
   "outputs": [],
   "source": [
    "def extract_text_from_pdf(pdf_path):\n",
    "    \"\"\"Extracts text from a multi-page PDF by converting each page to an image and running OCR.\"\"\"\n",
    "    \n",
    "    images = convert_from_path(pdf_path)\n",
    "    full_text = \"\"\n",
    "    \n",
    "    for page_num, image in enumerate(images):\n",
    "       \n",
    "        text = pytesseract.image_to_string(image)\n",
    "        full_text += f\"\\n\\nPage {page_num + 1}:\\n\" + text\n",
    "    \n",
    "    return full_text"
   ]
  },
  {
   "cell_type": "code",
   "execution_count": 19,
   "id": "5fa775b3-ee94-4fd2-892f-11c25988ed52",
   "metadata": {},
   "outputs": [
    {
     "name": "stdout",
     "output_type": "stream",
     "text": [
      "Extracted Text from Image:\n",
      "packages.\n",
      "\n",
      "9 Tip\n",
      "\n",
      "You do not need to install Dart separately as the Flutter SDK includes the full Dart SDK.\n",
      "\n",
      "Operating system\n",
      "Flutter supports 64-bit version of Microsoft Windows 10 or later. These versions of Windows should include the required\n",
      "\n",
      "Windows PowerShell 5 or later.\n",
      "\n",
      "Development tools\n",
      "\n",
      "Download and install the Windows version of the following packages:\n",
      "¢ Git for Windows 2.27 or later to manage source code.\n",
      "\n",
      "¢ Android Studio 2023.3.1 (Jellyfish) or later to debug and compile Java or Kotlin code for Android. Flutter requires the full\n",
      "version of Android Studio.\n",
      "\n",
      "The developers of the preceding software provide support for those products. To troubleshoot installation issues, consult\n",
      "that product's documentation.\n",
      "\n",
      "When you run the current version of flutter doctor, it might list a different version of one of these packages. If it does,\n",
      "install the version it recommends.\n",
      "\n"
     ]
    }
   ],
   "source": [
    "try:\n",
    "    image_text = extract_text_from_image(r'C:\\Users\\sajiv\\Pictures\\Screenshots\\Screenshot 2024-11-01 132123.png')\n",
    "    print(\"Extracted Text from Image:\")\n",
    "    print(image_text)\n",
    "\n",
    "except Exception as e:\n",
    "    print(f\"Error extracting text from image: {e}\")"
   ]
  },
  {
   "cell_type": "code",
   "execution_count": null,
   "id": "38e1f5e2-588f-4d7c-a7da-590e2266490f",
   "metadata": {},
   "outputs": [],
   "source": []
  }
 ],
 "metadata": {
  "kernelspec": {
   "display_name": "Python 3 (ipykernel)",
   "language": "python",
   "name": "python3"
  },
  "language_info": {
   "codemirror_mode": {
    "name": "ipython",
    "version": 3
   },
   "file_extension": ".py",
   "mimetype": "text/x-python",
   "name": "python",
   "nbconvert_exporter": "python",
   "pygments_lexer": "ipython3",
   "version": "3.12.4"
  }
 },
 "nbformat": 4,
 "nbformat_minor": 5
}
